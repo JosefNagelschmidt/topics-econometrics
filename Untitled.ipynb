{
 "cells": [
  {
   "cell_type": "code",
   "execution_count": null,
   "metadata": {},
   "outputs": [],
   "source": [
    "source(\"src/plots/plot_live.R\")\n",
    "fig_complex <- plot_live(\"complex\")\n",
    "fig_simple <- plot_live(\"simple\")\n",
    "fig_simple_main <- plot_live(\"simple_main\")\n",
    "fig_boundary <- plot_live(\"boundary\")\n",
    "\"fig_complex <- plot_live(\\\"complex\\\")\\n\",\n",
    "\"fig_simple <- plot_live(\\\"simple\\\")\\n\",\n",
    "\"fig_simple_main <- plot_live(\\\"simple_main\\\")\\n\",\n",
    "\"fig_boundary <- plot_live(\\\"boundary\\\")\""
   ]
  }
 ],
 "metadata": {
  "kernelspec": {
   "display_name": "R [conda env:topics-econometrics] *",
   "language": "R",
   "name": "conda-env-topics-econometrics-r"
  },
  "language_info": {
   "codemirror_mode": "r",
   "file_extension": ".r",
   "mimetype": "text/x-r-source",
   "name": "R",
   "pygments_lexer": "r",
   "version": "4.0.1"
  }
 },
 "nbformat": 4,
 "nbformat_minor": 4
}
