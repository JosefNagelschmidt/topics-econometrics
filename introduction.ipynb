{
 "cells": [
  {
   "cell_type": "code",
   "execution_count": 1,
   "metadata": {},
   "outputs": [],
   "source": [
    "source(\"src/plots/plot_dag.R\")"
   ]
  },
  {
   "cell_type": "markdown",
   "metadata": {
    "slideshow": {
     "slide_type": "slide"
    }
   },
   "source": [
    "# Causal Forests\n",
    "\n",
    "Josef Nagelschmidt and Tim Mensinger\n",
    "\n",
    "<a href=\"https://github.com/timmens/topics-econometrics\"\n",
    "   target=\"_parent\">\n",
    "    <img align=\"center\"\n",
    "         src=\"img/github-logo.png\" width=\"75\">\n",
    "</a>"
   ]
  },
  {
   "cell_type": "markdown",
   "metadata": {
    "slideshow": {
     "slide_type": "slide"
    }
   },
   "source": [
    "## Contents\n",
    "\n",
    "0. Introduction to Causal Inference\n",
    "1. Data Processes\n",
    "2. Methods\n",
    "3. Causal Forests\n",
    "4. Generalized Random Forests\n",
    "5. Monte Carlo Simulation\n",
    "6. (Live coding)"
   ]
  },
  {
   "cell_type": "markdown",
   "metadata": {
    "slideshow": {
     "slide_type": "slide"
    }
   },
   "source": [
    "## Introduction to Causal Inference"
   ]
  },
  {
   "cell_type": "markdown",
   "metadata": {
    "slideshow": {
     "slide_type": "subslide"
    }
   },
   "source": [
    "### Introductory Example\n",
    "\n",
    "- Consider the prediction challenge\n",
    "- Say the computer science department offers a weekend class on *Big data analytics* before submission are due\n",
    "- Some of us go and some don't\n",
    "- Prof. Freyberger grades the submissions\n",
    "- First place did not attend the weekend class but the second to fifth placed all did\n",
    "- We wish to ask: \n",
    "    - Did the weekend class had an effect on the quality of the submissions?\n",
    "    - If so, can we estimate this effect?"
   ]
  },
  {
   "cell_type": "markdown",
   "metadata": {
    "slideshow": {
     "slide_type": "subslide"
    }
   },
   "source": [
    "### Data setting\n",
    "\n",
    "For $i = 1,\\dots, n$ (i.i.d) individuals we have\n",
    "\n",
    "| | |\n",
    "|-------|-----------------------------------------------------|\n",
    "| $Y_i$ | $\\mathbb{R}$-valued (observed) outcome             |\n",
    "| $X_i$ | $\\mathbb{R}^k$-valued (observed) feature vector     |\n",
    "| $W_i$ | binary treatment indicator                          |\n",
    "| $U_i$ | unobservables (here: $\\mathbb{R}$-valued error term)| "
   ]
  },
  {
   "cell_type": "markdown",
   "metadata": {
    "slideshow": {
     "slide_type": "subslide"
    }
   },
   "source": [
    "### Causal Language and Counterfactuals\n",
    "\n",
    "- Before estimating anything we have to formalize our notion of a *causal effect*."
   ]
  },
  {
   "cell_type": "markdown",
   "metadata": {
    "slideshow": {
     "slide_type": "fragment"
    }
   },
   "source": [
    "- Most prominent way of thinking about this issue are so called counterfactuals."
   ]
  },
  {
   "cell_type": "markdown",
   "metadata": {
    "slideshow": {
     "slide_type": "fragment"
    }
   },
   "source": [
    "- A counterfactual question in our example is of the form \n",
    "    - *Would the first place still be in first place had she gone to the weekend class?*\n",
    "    - *Would the second to fifth placed still be in the top five had they **not** gone to the weekend class?*\n",
    "    "
   ]
  },
  {
   "cell_type": "markdown",
   "metadata": {
    "slideshow": {
     "slide_type": "fragment"
    }
   },
   "source": [
    "- Mathematical formulation?"
   ]
  },
  {
   "cell_type": "markdown",
   "metadata": {
    "slideshow": {
     "slide_type": "subslide"
    }
   },
   "source": [
    "### Neyman-Rubin (Potential Outcomes) model\n",
    "\n",
    "- Postulate existence of so called potential outcomes $Y_i(0)$ and $Y_i(1)$\n",
    "- $Y_i(0) \\,\\,$: Outcome of $i$ given $i$ was *not* treated\n",
    "- $Y_i(1) \\,\\,$: Outcome of $i$ given $i$ was treated"
   ]
  },
  {
   "cell_type": "markdown",
   "metadata": {
    "slideshow": {
     "slide_type": "fragment"
    }
   },
   "source": [
    "**Individual treatment effect:**\n",
    "\n",
    "$$\\tau_i := Y_i(1) - Y_i(0)$$"
   ]
  },
  {
   "cell_type": "markdown",
   "metadata": {
    "slideshow": {
     "slide_type": "fragment"
    }
   },
   "source": [
    "**Fundamental problem of causal inference:**\n",
    "\n",
    "$$Y_i = W_i Y_i(1) + (1 - W_i) Y_i(0)$$"
   ]
  },
  {
   "cell_type": "markdown",
   "metadata": {
    "slideshow": {
     "slide_type": "subslide"
    }
   },
   "source": [
    "### Quantities of interest\n",
    "\n",
    "| | | |\n",
    "|:-------------------------------|:-----------------------------|:-----|\n",
    "|Average treatment effect | $\\mathbb{E}[\\tau_i]$ | (ATE) |\n",
    "|Average effect on the treated | $\\mathbb{E}[\\tau_i \\mid W_i = 1]$| (ATT) |\n",
    "|Conditional average treatment effect | $\\mathbb{E}[\\tau_i \\mid X_i = x]$| (CATE) |"
   ]
  },
  {
   "cell_type": "markdown",
   "metadata": {
    "slideshow": {
     "slide_type": "subslide"
    }
   },
   "source": [
    "### Recovering the treatment effect\n",
    "\n",
    "**Assumption 1 (Unconfoundedness):**\n",
    "\n",
    "$$ Y_i(0), Y_i(1) \\perp\\hspace{-3.5pt}\\perp W_i \\mid X_i $$\n",
    "\n",
    "*That is, the potential outcomes are independent of the treatment status given the (observed) features.*"
   ]
  },
  {
   "cell_type": "markdown",
   "metadata": {
    "slideshow": {
     "slide_type": "fragment"
    }
   },
   "source": [
    "**Assumption 2 (Common support):**\n",
    "\n",
    "The propensity score function, given by $e(x) := \\mathbb{P}(W_i = 1 \\mid X_i = x)$ is bounded away from $0$ and $1$ for all $x \\in \\mathbb{R}^k$.\n",
    "\n",
    "*That is, on all regions where $X_i$ attains values we can potentially find treated and non-treated individuals.*"
   ]
  },
  {
   "cell_type": "markdown",
   "metadata": {
    "slideshow": {
     "slide_type": "subslide"
    }
   },
   "source": [
    "### Identification of the (conditional average) treatment effect\n",
    "\n",
    "\\begin{align}\n",
    "    \\text{CATE}(x) &:= \\tau(x)\\\\\n",
    "    &:= \\mathbb{E}[\\tau_i \\mid X_i = x] \\\\\n",
    "    &= \\mathbb{E}[Y_i(1) - Y_i(0) \\mid X_i = x] \\\\\n",
    "    &= \\mathbb{E}[Y_i(1) \\mid X_i = x] - \\mathbb{E}[Y_i(0) \\mid X_i = x]\\\\\n",
    "                      &= \\mathbb{E}[Y_i(1) \\mid W_i = 1, X_i = x] - \\mathbb{E}[Y_i(0) \\mid W_i = 0, X_i = x] & \\text{(by A1)}\\\\\n",
    "                      &= \\mathbb{E}[Y_i \\mid W_i = 1, X_i = x] - \\mathbb{E}[Y_i \\mid W_i = 0, X_i = x] & \\text{(by def. of $Y_i$)}\\\\\n",
    "                      &=: \\mu_1(x) - \\mu_0(x)\n",
    "\\end{align}\n",
    "\n",
    "which is defined for all $x$ by A2."
   ]
  },
  {
   "cell_type": "markdown",
   "metadata": {
    "slideshow": {
     "slide_type": "subslide"
    }
   },
   "source": [
    "### Estimation of the (average) treatment effect\n",
    "\n",
    "For the sake of illustration assume $\\mathbb{P}(W_i = 1 \\mid X_i = x) =: e = const.$, then\n",
    "\n",
    "\\begin{align}\n",
    "    \\text{ATE} &= \\mathbb{E}[\\tau_i]\\\\\n",
    "               &= \\mathbb{E}\\left[\\mathbb{E}[\\tau_i \\mid X_i = x]\\right]\\\\\n",
    "               &= \\mathbb{E}[Y_i \\mid W_i = 1] - \\mathbb{E}[Y_i \\mid W_i = 0] & \\text{(by A1, A2)}\\\\\n",
    "               &= \\frac{1}{e} \\mathbb{E}[Y_i \\mathbb{1}(W_i=1)] - \\frac{1}{1 - e} \\mathbb{E}[Y_i \\mathbb{1}(W_i=0)]\n",
    "\\end{align}"
   ]
  },
  {
   "cell_type": "markdown",
   "metadata": {
    "slideshow": {
     "slide_type": "fragment"
    }
   },
   "source": [
    "Hence,\n",
    "\n",
    "\\begin{align}\n",
    "    \\hat{\\tau}_{ATE} &:= \\frac{1}{|\\{i: W_i = 1\\}|} \\sum_{i: W_i = 1} Y_i - \\frac{1}{|\\{i: W_i = 0\\}|} \\sum_{i: W_i = 0} Y_i\\\\\n",
    "    &\\longrightarrow_p \\text{ATE}\n",
    "\\end{align}"
   ]
  },
  {
   "cell_type": "markdown",
   "metadata": {
    "slideshow": {
     "slide_type": "slide"
    }
   },
   "source": [
    "## Estimation of Heterogeneous Treatment Effects\n",
    "\n",
    "- We have a consistent estimator for the ATE\n",
    "- If the treatment effect is (more or less) constant ATE $\\approx$ CATE\n",
    "- How do we estimate CATE in a heterogeneous case?"
   ]
  },
  {
   "cell_type": "markdown",
   "metadata": {
    "slideshow": {
     "slide_type": "fragment"
    }
   },
   "source": [
    "### Resources\n",
    "\n",
    "- [Causal inference in Statistics](http://bayes.cs.ucla.edu/PRIMER/) -Judea Pearl, 2016\n",
    "- [Mostly harmless econometrics](https://www.mostlyharmlesseconometrics.com/) -Angrist & Pischke, 2008"
   ]
  }
 ],
 "metadata": {
  "celltoolbar": "Slideshow",
  "kernelspec": {
   "display_name": "R",
   "language": "R",
   "name": "topics-econometrics"
  },
  "language_info": {
   "codemirror_mode": "r",
   "file_extension": ".r",
   "mimetype": "text/x-r-source",
   "name": "R",
   "pygments_lexer": "r",
   "version": "4.0.1"
  }
 },
 "nbformat": 4,
 "nbformat_minor": 4
}
